{
 "cells": [
  {
   "cell_type": "code",
   "execution_count": 1,
   "id": "32d44bc6-70f0-4c9b-9602-d50a06d9f580",
   "metadata": {},
   "outputs": [
    {
     "name": "stdin",
     "output_type": "stream",
     "text": [
      "enter the amount 1234\n",
      "Enter a 4 digit number:  1234\n"
     ]
    },
    {
     "name": "stdout",
     "output_type": "stream",
     "text": [
      "The password is correct.\n"
     ]
    },
    {
     "name": "stdin",
     "output_type": "stream",
     "text": [
      "Enter the 4 digit number for balance checking:  2345\n"
     ]
    },
    {
     "name": "stdout",
     "output_type": "stream",
     "text": [
      "the total balance is: 1736.0\n"
     ]
    }
   ],
   "source": [
    "amount=float(input(\"enter the amount\"))\n",
    "bank_password = input(\"Enter a 4 digit number: \")\n",
    "if bank_password == \"1234\":\n",
    "    print(\"The password is correct.\")\n",
    "    balance_password = input(\"Enter the 4 digit number for balance checking: \")\n",
    "    \n",
    "    if balance_password == \"2345\":\n",
    "        sum=500+2+amount\n",
    "        print(\"the total balance is:\",sum)\n",
    "    else:\n",
    "        print(\"Your password is wrong, try again!\")\n",
    "else:\n",
    "    print(\"Incorrect password.\")"
   ]
  },
  {
   "cell_type": "code",
   "execution_count": null,
   "id": "6cb432d0-8996-4b2e-adba-c7483a135d85",
   "metadata": {},
   "outputs": [],
   "source": []
  }
 ],
 "metadata": {
  "kernelspec": {
   "display_name": "Python [conda env:base] *",
   "language": "python",
   "name": "conda-base-py"
  },
  "language_info": {
   "codemirror_mode": {
    "name": "ipython",
    "version": 3
   },
   "file_extension": ".py",
   "mimetype": "text/x-python",
   "name": "python",
   "nbconvert_exporter": "python",
   "pygments_lexer": "ipython3",
   "version": "3.12.7"
  }
 },
 "nbformat": 4,
 "nbformat_minor": 5
}
